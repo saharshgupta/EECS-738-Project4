{
  "nbformat": 4,
  "nbformat_minor": 0,
  "metadata": {
    "colab": {
      "name": "Treasure_Hunters.ipynb",
      "provenance": [],
      "collapsed_sections": []
    },
    "kernelspec": {
      "name": "python3",
      "display_name": "Python 3"
    },
    "language_info": {
      "name": "python"
    }
  },
  "cells": [
    {
      "cell_type": "markdown",
      "metadata": {
        "id": "rX6CLjMxGw6Q"
      },
      "source": [
        "## Importing Libraries\n",
        "Importing required libraries\n",
        "\n",
        "Only numpy for math and matplotlib for visualization required."
      ]
    },
    {
      "cell_type": "code",
      "metadata": {
        "id": "0tYPUQV2oxGg"
      },
      "source": [
        "import numpy as np\n",
        "# Importing libraries required for visualization\n",
        "import matplotlib.pyplot as plt\n",
        "# Using plot style from fivethirtyeight\n",
        "plt.style.use('fivethirtyeight')"
      ],
      "execution_count": 1,
      "outputs": []
    },
    {
      "cell_type": "markdown",
      "metadata": {
        "id": "GjwZTZBhG8HU"
      },
      "source": [
        "## Game Environment\n",
        "\n",
        "The 5 different features are represented on the game map as follows:\n",
        "\n",
        "\n",
        "*   The Open space is represented as 'O'\n",
        "*   The Obstacle/Wall is represented as 'W'\n",
        "* The Treasure is represented as 'T'\n",
        "* The Enemy is represented as 'E'\n",
        "* And Our (Agent's) position is denoted by 'X'\n",
        "\n",
        "\n"
      ]
    },
    {
      "cell_type": "code",
      "metadata": {
        "id": "JBD23JegrB19"
      },
      "source": [
        "# Defining constants for the Game Map\n",
        "OPEN_SPACE = 'O'\n",
        "OBSTACLE = 'W'\n",
        "TREASURE = 'T'\n",
        "ENEMY = 'E'\n",
        "ME = 'X'"
      ],
      "execution_count": 2,
      "outputs": []
    },
    {
      "cell_type": "markdown",
      "metadata": {
        "id": "6dzO8_MrHjn_"
      },
      "source": [
        "The following GameMap class defines an object that we can use as the game environment for the Reinforcement learning algorithm. I have made this environment class close to how the OpenAI GYM environments work, as an environment the class needed the following properties:\n",
        "\n",
        "*   Initializes a text based maze/grid in a form of 2d-array or list of list. Takes input the size x and y, takes the treasure location, obstacle Positions, enemy postion and place them accordingly.\n",
        "*   The environment should be able to perform some actions and return a reward, that is what the step function does.\n",
        "* The environment should be able to update itself based on the actions performed and relay the  information to the agent.\n",
        "* The environment should be able to check for legal/allowed moves and thats what the penaltyMove function does. For Penalties, the agent recieves low rewards for any obstacle/enemy encountered with no change in the position, i.e. low reward and no change similarly if the agent tries to go off the maze/grid the reward stays -1 and the position remains the same.\n",
        "* The class has a reset function which resets the whole game environment/board as this is needed at the start of every episode for reinforcement learning algorithm\n",
        "* The class defines a policy pi that is a dictionary of mappings from possible actions to the action space.\n",
        "\n"
      ]
    },
    {
      "cell_type": "code",
      "metadata": {
        "id": "fFYDQNW0oy4r"
      },
      "source": [
        "class GameMap:\n",
        "  def __init__(self, gridX = 5, gridY = 5, treasurePos = [], obstaclesPos = [], enemyPos = []):\n",
        "    self.gridSize = (gridX,gridY)\n",
        "    self.x = gridX\n",
        "    self.y = gridY\n",
        "    self.gameMap = [[OPEN_SPACE for _ in range(self.y)] for _ in range(self.x)]\n",
        "    self.enemy = enemyPos\n",
        "\n",
        "    self.pi = {'U': [-1, 0] , 'D': [1, 0] , 'L': [0,-1], 'R': [0,1]} # Policy in this game map (agent can only move up/down/left/right)\n",
        "    self.possibleActions = ['U', 'D', 'L', 'R'] # respective to the policy\n",
        "    self.states = [(i,j) for i in range(gridX) for j in range(gridY)] # All the possible states\n",
        "\n",
        "    # My position starting from 0,0 (top left corner of the grid)\n",
        "    self.myPosition = (0,0)\n",
        "    self.gameMap[0][0] = ME\n",
        "\n",
        "    # Placing obstacle\n",
        "    self.obstacles = obstaclesPos    \n",
        "    for wall in self.obstacles:\n",
        "      for o in wall:\n",
        "        self.gameMap[o[0]][o[1]] = OBSTACLE\n",
        "\n",
        "    # Place the treasure at the right bottom corner cell, if no treasure location is specified\n",
        "    if len(treasurePos) == 0:\n",
        "      self.treasure = [self.x-1,self.y-1]\n",
        "    else:\n",
        "      self.treasure = treasurePos\n",
        "\n",
        "    # Placing treasure\n",
        "    self.gameMap[self.treasure[0]][self.treasure[1]] = TREASURE\n",
        "\n",
        "    # Placing the Enemy if given\n",
        "    if len(enemyPos) != 0:\n",
        "      self.gameMap[self.enemy[0]][self.enemy[1]] = ENEMY\n",
        "\n",
        "  # Different rewards for enemy or obstacle\n",
        "  def penaltyMove(self, state):\n",
        "    x, y = state\n",
        "    if x < 0 or x >= self.x: # Check for off grid move\n",
        "      return True, -1\n",
        "    if y < 0 or y >= self.y: # Check for off grid move\n",
        "      return True, -1\n",
        "    if self.gameMap[x][y] == ENEMY: # Checking for enemy\n",
        "      return True, -10\n",
        "    if self.gameMap[x][y] == OBSTACLE: # Checking for obstacle\n",
        "      return True, -5\n",
        "    return False, -1 # Everything fine\n",
        "  \n",
        "  # Updates the agent's current position on the map by moving the X and O\n",
        "  def updatePosition(self, state):\n",
        "    self.gameMap[self.myPosition[0]][self.myPosition[1]] = OPEN_SPACE # Replacing current position with an open space\n",
        "    x, y = state # Unpacking the new position values\n",
        "    self.myPosition = (x,y) # saving the new updated position\n",
        "    self.gameMap[x][y] = ME # Updating the map to show the agent at new position\n",
        "  \n",
        "  # Takes a step with the provided action, the new state is then checked and the reward is returned respectively\n",
        "  def step(self, action):\n",
        "    newState = np.array(self.myPosition) + np.array(action) # Adds the action to current position, that is changes the current position by [1,0],[-1,0],[0,1], or [0,-1]\n",
        "    if (newState[0] == self.treasure[0]) and (newState[1] == self.treasure[1]): # If the new state is the terminal state, we are done and the reward is 0\n",
        "      done = True\n",
        "      reward = 0\n",
        "    else: # Otherwise we keep going with a -1 reward at every time step\n",
        "      done = False\n",
        "      reward = -1\n",
        "    \n",
        "    penalty, penaltyReward = self.penaltyMove(newState) # Check if the move made was valid or not\n",
        "    if penalty: # If not valid, change the reward based on the ilegal move made and reset the position\n",
        "      reward = penaltyReward # Reward for moving towards an enemy or obstacle\n",
        "      newState = self.myPosition # No move since there is an enemy or obstacle so back to original position\n",
        "\n",
        "    self.updatePosition(newState)\n",
        "\n",
        "    return newState, reward, done\n",
        "\n",
        "  # Defining the reset function since we need to reset after every episode\n",
        "  def reset(self):\n",
        "    # Resetting the game map\n",
        "    self.gameMap = [[OPEN_SPACE for _ in range(self.y)] for _ in range(self.x)]\n",
        "    # resetting My position starting from 0,0 (top left corner of the grid)\n",
        "    self.myPosition = (0,0)\n",
        "    self.gameMap[self.myPosition[0]][self.myPosition[1]] = ME\n",
        "    # Replacing obstacle  \n",
        "    for wall in self.obstacles:\n",
        "      for o in wall:\n",
        "        self.gameMap[o[0]][o[1]] = OBSTACLE\n",
        "    # Replacing treasure\n",
        "    self.gameMap[self.treasure[0]][self.treasure[1]] = TREASURE\n",
        "    # Replacing the Enemy\n",
        "    if len(self.enemy) != 0:\n",
        "      self.gameMap[self.enemy[0]][self.enemy[1]] = ENEMY\n",
        "\n",
        "    return self.myPosition\n",
        "\n",
        "  def __repr__(self):\n",
        "    stringMap = \"Game Map:\\n\"\n",
        "    for r in range(self.x):\n",
        "      stringMap += f\"{self.gameMap[r]}\\n\"\n",
        "    return f\"Grid Size: {self.gridSize}; Treasure: {self.treasure} \\n\" + stringMap"
      ],
      "execution_count": 3,
      "outputs": []
    },
    {
      "cell_type": "markdown",
      "metadata": {
        "id": "D5Pom1klKXBP"
      },
      "source": [
        "## Reinforcement Learning\n",
        "\n",
        "The following RLAgent class defines an agent which can perform actions in the provided environment. The agent initializes a Q table for state action pairs, for our environment we have 4 actions for every state possible that is up/down/left/right. \n",
        "\n",
        "The RLAgent class defines 3 different training algorithm:\n",
        "\n",
        "*   The first one is a Q learning approach where the Q table is updated using epsilon greedy strategy for exploration vs exploitaion. The epsilon is started at 1 that is purely in an exploratory mode, and the epsilon decay happens after every episode reducing 10% from the previous episode. This epsilon decay method allows the algorithm to explore and learn about the states in the environment when the agent starts off with no information. Once the epsilon reaches 0 the agent only makes decisions by exploiting the Q-table and hence takes smart decisions rather than random exploring decisions\n",
        "*   The second one is a Value iteration algorithm based on the bellman equation to maximize the transition from one state to another based on all the possible actions in the current state, for this the maximum reward possible in every state is chosen with this the state transition value table (V) gives us the number of steps required to reach the treasure location from any given state in the grid. In this method we explore all the possible states in the environment, hence we have information about all the states.\n",
        "* The third one is similar to the previous value iteration method, the only difference in this is that we go over all the possible actions and take the average of all possible rewards rather than the maximum available. Similar to value iteration, this method  also explores the whole state space of the environment, and hence we have information about all the states.\n",
        "\n",
        "\n",
        "The RL agent is negatively reinforced, that is the rewards are negative for every time step (-1), more negative for any unfavourable encounter with monster (-10) or obstacle (-5), and 0 when we find the treasure. This means the algorithm will try to reach/find the minimum number of steps required to complete the maze.\n",
        "\n",
        "Since all the rewards are negative and only 0 when we are at the goal, that means the Q table initialized with all 0 is an optimistic choice as 0 is the maximum atainable reward in this environment.\n"
      ]
    },
    {
      "cell_type": "code",
      "metadata": {
        "id": "qTp727euCNat"
      },
      "source": [
        "class RLAgent:\n",
        "  def __init__(self, grid):\n",
        "    self.env = grid\n",
        "    self.Q = {}\n",
        "    for s in self.env.states:\n",
        "      for a in self.env.possibleActions:\n",
        "        self.Q[s,a] = 0 # Table for mapping every state with all posible action rewards pair\n",
        "\n",
        "    self.gamma = 1 # Discount rate, far sighted with value of 1\n",
        "    self.alpha = 0.1 # Learning rate\n",
        "    self.epsilon = 1 # Using epsilon greedy strategy for exploration vs exploitation\n",
        "\n",
        "    self.endState = self.env.treasure\n",
        "  \n",
        "  # Find the action with best reward to perform from the current state\n",
        "  def maxAction(self, Q, state, actions):\n",
        "    Q_values = np.array([Q[state, a] for a in actions]) # All Q transition values for all actions in the current state\n",
        "    action = np.argmax(Q_values) # The index of the highest action/value pair from the current state\n",
        "    return actions[action] # Returning the max action\n",
        "\n",
        "  def train(self, numEpisodes = 1000):\n",
        "    rewards = np.zeros(numEpisodes) # List of rewards for all episodes.\n",
        "\n",
        "    for ep in range(numEpisodes):\n",
        "      state = self.env.reset() # Resetting the environment at the start of every episode, so that the agent is at the starting position\n",
        "      if ep % 100 == 0:\n",
        "        print(f\"Starting Episode: {ep}\")\n",
        "      done = False # Reset the done flag\n",
        "      episodeReward = 0 # Total reward for this episode\n",
        "      \n",
        "      if ep == numEpisodes - 1:\n",
        "        print(\"\\nThe agent follows the following path:\")\n",
        "\n",
        "      while not done:\n",
        "        if ep == numEpisodes - 1: # For the last episode\n",
        "          print(self.env)\n",
        "        rand = np.random.random() # Random number for epsilon greedy strategy\n",
        "        if rand < (1-self.epsilon): # Exploit if the random number is less than 1-epsilon\n",
        "          action = self.maxAction(self.Q, state, self.env.possibleActions)\n",
        "        else: # Explore a random action in this state\n",
        "          action = np.random.choice(self.env.possibleActions)\n",
        "\n",
        "        newState, reward, done = self.env.step(self.env.pi[action]) # Perforeming the selected action\n",
        "        episodeReward += reward\n",
        "        nS = (newState[0],newState[1])\n",
        "\n",
        "        newAction = self.maxAction(self.Q, nS, self.env.possibleActions)\n",
        "\n",
        "        self.Q[state, action] = self.Q[state, action] + self.alpha*(reward + self.gamma*self.Q[nS, newAction])\n",
        "\n",
        "        state = nS\n",
        "\n",
        "      # Decreasing epsilon linearly\n",
        "      self.epsilon = 0.9*self.epsilon # Epsilon Decay\n",
        "      rewards[ep] = episodeReward\n",
        "    print(self.env)\n",
        "    print(f\"Total Reward for the last episode: {episodeReward}\")\n",
        "    plt.figure(figsize=(10,5))\n",
        "    plt.plot(range(numEpisodes),rewards)\n",
        "    plt.xlabel(\"Episodes\")\n",
        "    plt.ylabel(\"Total Reward\")\n",
        "    plt.title(\"Reward Convergence\")\n",
        "    # return rewards\n",
        "\n",
        "  def actionReward(self, initialState, action):\n",
        "    reward = -1\n",
        "    # If treasure found reward is 0\n",
        "    if initialState[0] == self.endState[0] and initialState[1] == self.endState[1]:\n",
        "        return initialState, 0\n",
        "\n",
        "    newState = np.array(initialState) + np.array(action)  \n",
        "\n",
        "    if -1 in newState or self.env.x == newState[0] or self.env.y == newState[1]:\n",
        "      newState = initialState\n",
        "\n",
        "    # Return reward based on the state, -1 for eQery time step, -10 for monsters, -5 for obstacle and 0 for treasure\n",
        "    if self.env.gameMap[newState[0]][newState[1]] == OBSTACLE:\n",
        "      newState = initialState\n",
        "      reward = -5\n",
        "    if self.env.gameMap[newState[0]][newState[1]] == ENEMY:\n",
        "      newState = initialState\n",
        "      reward = -10\n",
        "        \n",
        "    return newState, reward  \n",
        "\n",
        "  def valueIteration(self, numEpisodes = 100):\n",
        "    self.V = np.zeros(self.env.gridSize)\n",
        "    states = [[i,j] for i in range(self.env.x) for j in range(self.env.y)] # All the possible states\n",
        "    actions = [[-1, 0], [1, 0], [0, 1], [0, -1]]\n",
        "    print(\"Episode 0\")\n",
        "    print(f\"Sate Value: \\n{self.V}\")\n",
        "    print(\"\")\n",
        "\n",
        "    for epoch in range(numEpisodes):\n",
        "      cV = np.copy(self.V)\n",
        "      for s in states: # For all states\n",
        "        newR = [0,0,0,0]\n",
        "        i = 0\n",
        "        for a in actions: # For all possible actions from that state\n",
        "          newState, reward = self.actionReward(s, a)\n",
        "          newR[i] += reward+(self.gamma*self.V[newState[0], newState[1]])\n",
        "          i += 1\n",
        "        cV[s[0], s[1]] = max(newR)\n",
        "      if epoch > 1 and (self.V == cV).all():\n",
        "        print(f\"CONVERGED at Episode: {epoch + 1} \\nState Value: \\n{self.V} \\n\")\n",
        "        break\n",
        "      self.V = cV\n",
        "      if (epoch + 1) % 2 == 0:\n",
        "        print(f\"Episode: {epoch+1} \\nState Value: \\n{self.V} \\n\")\n",
        "\n",
        "  # Similar to value iteration but takes the average of all action/rewards per state rather than the max\n",
        "  def policyIteration(self, numEpisodes = 100):\n",
        "    self.V = np.zeros(self.env.gridSize)\n",
        "    states = [[i,j] for i in range(self.env.x) for j in range(self.env.y)] # All the possible states\n",
        "    actions = [[-1, 0], [1, 0], [0, 1], [0, -1]]\n",
        "    print(\"Episode 0\")\n",
        "    print(self.V)\n",
        "    print(\"\")\n",
        "\n",
        "    for epoch in range(numEpisodes):\n",
        "      cV = np.copy(self.V)\n",
        "      for s in states: # For all states\n",
        "        newR = 0\n",
        "        for a in actions: # For all possible actions from that state\n",
        "          newState, reward = self.actionReward(s, a)\n",
        "          newR += (1/4)*(reward+(self.gamma*self.V[newState[0], newState[1]]))\n",
        "        cV[s[0], s[1]] = newR\n",
        "      if epoch > 1 and (self.V - cV < 0.01).all():\n",
        "        print(f\"CONVERGED at Episode: {epoch + 1} \\nState Value: \\n{self.V} \\n\")\n",
        "        break\n",
        "      self.V = cV\n",
        "      if (epoch + 1) % 2 == 0:\n",
        "        print(f\"Episode: {epoch+1} \\nState Value: \\n{self.V} \\n\")\n",
        "  \n",
        "  def __repr__(self):\n",
        "    stateMap = \"States:\\n\"\n",
        "    i = 0\n",
        "    for r in self.env.states:\n",
        "      stateMap += f\"{r}\\t\"\n",
        "      if (i+1) % self.env.gridSize[1] == 0:\n",
        "        stateMap += \"\\n\"\n",
        "      i += 1\n",
        "\n",
        "    stringMap = \"Q-table: \\n\"\n",
        "    for s in self.env.states:\n",
        "      for a in self.env.possibleActions:\n",
        "        stringMap += f\"{self.Q[s,a]} \"\n",
        "      stringMap += f\"\\n\"\n",
        "\n",
        "    return f\"Policy: {self.env.pi} Treasure: {self.endState}\\n\" + stringMap + stateMap\n"
      ],
      "execution_count": 4,
      "outputs": []
    },
    {
      "cell_type": "code",
      "metadata": {
        "colab": {
          "base_uri": "https://localhost:8080/"
        },
        "id": "JX4vjyn2r3kw",
        "outputId": "d9ec1cb7-e89a-4daf-c86a-5fe6cf040f11"
      },
      "source": [
        "np.random.seed(123)\n",
        "myMap = GameMap(obstaclesPos= [[[0,3],[1,3],[2,3]], [[2,0],[2,1]]], enemyPos=[3,3])\n",
        "print(myMap)\n",
        "myAgent = RLAgent(myMap)\n",
        "myAgent"
      ],
      "execution_count": 5,
      "outputs": [
        {
          "output_type": "stream",
          "text": [
            "Grid Size: (5, 5); Treasure: [4, 4] \n",
            "Game Map:\n",
            "['X', 'O', 'O', 'W', 'O']\n",
            "['O', 'O', 'O', 'W', 'O']\n",
            "['W', 'W', 'O', 'W', 'O']\n",
            "['O', 'O', 'O', 'E', 'O']\n",
            "['O', 'O', 'O', 'O', 'T']\n",
            "\n"
          ],
          "name": "stdout"
        },
        {
          "output_type": "execute_result",
          "data": {
            "text/plain": [
              "Policy: {'U': [-1, 0], 'D': [1, 0], 'L': [0, -1], 'R': [0, 1]} Treasure: [4, 4]\n",
              "Q-table: \n",
              "0 0 0 0 \n",
              "0 0 0 0 \n",
              "0 0 0 0 \n",
              "0 0 0 0 \n",
              "0 0 0 0 \n",
              "0 0 0 0 \n",
              "0 0 0 0 \n",
              "0 0 0 0 \n",
              "0 0 0 0 \n",
              "0 0 0 0 \n",
              "0 0 0 0 \n",
              "0 0 0 0 \n",
              "0 0 0 0 \n",
              "0 0 0 0 \n",
              "0 0 0 0 \n",
              "0 0 0 0 \n",
              "0 0 0 0 \n",
              "0 0 0 0 \n",
              "0 0 0 0 \n",
              "0 0 0 0 \n",
              "0 0 0 0 \n",
              "0 0 0 0 \n",
              "0 0 0 0 \n",
              "0 0 0 0 \n",
              "0 0 0 0 \n",
              "States:\n",
              "(0, 0)\t(0, 1)\t(0, 2)\t(0, 3)\t(0, 4)\t\n",
              "(1, 0)\t(1, 1)\t(1, 2)\t(1, 3)\t(1, 4)\t\n",
              "(2, 0)\t(2, 1)\t(2, 2)\t(2, 3)\t(2, 4)\t\n",
              "(3, 0)\t(3, 1)\t(3, 2)\t(3, 3)\t(3, 4)\t\n",
              "(4, 0)\t(4, 1)\t(4, 2)\t(4, 3)\t(4, 4)\t"
            ]
          },
          "metadata": {
            "tags": []
          },
          "execution_count": 5
        }
      ]
    },
    {
      "cell_type": "code",
      "metadata": {
        "colab": {
          "base_uri": "https://localhost:8080/",
          "height": 1000
        },
        "id": "TIchO0zaQ6zq",
        "outputId": "4c24ded7-e2d6-470a-899f-de40dce7a9fe"
      },
      "source": [
        "myAgent.train(numEpisodes=1000)"
      ],
      "execution_count": 6,
      "outputs": [
        {
          "output_type": "stream",
          "text": [
            "Starting Episode: 0\n",
            "Starting Episode: 100\n",
            "Starting Episode: 200\n",
            "Starting Episode: 300\n",
            "Starting Episode: 400\n",
            "Starting Episode: 500\n",
            "Starting Episode: 600\n",
            "Starting Episode: 700\n",
            "Starting Episode: 800\n",
            "Starting Episode: 900\n",
            "\n",
            "The agent follows the following path:\n",
            "Grid Size: (5, 5); Treasure: [4, 4] \n",
            "Game Map:\n",
            "['X', 'O', 'O', 'W', 'O']\n",
            "['O', 'O', 'O', 'W', 'O']\n",
            "['W', 'W', 'O', 'W', 'O']\n",
            "['O', 'O', 'O', 'E', 'O']\n",
            "['O', 'O', 'O', 'O', 'T']\n",
            "\n",
            "Grid Size: (5, 5); Treasure: [4, 4] \n",
            "Game Map:\n",
            "['O', 'X', 'O', 'W', 'O']\n",
            "['O', 'O', 'O', 'W', 'O']\n",
            "['W', 'W', 'O', 'W', 'O']\n",
            "['O', 'O', 'O', 'E', 'O']\n",
            "['O', 'O', 'O', 'O', 'T']\n",
            "\n",
            "Grid Size: (5, 5); Treasure: [4, 4] \n",
            "Game Map:\n",
            "['O', 'O', 'X', 'W', 'O']\n",
            "['O', 'O', 'O', 'W', 'O']\n",
            "['W', 'W', 'O', 'W', 'O']\n",
            "['O', 'O', 'O', 'E', 'O']\n",
            "['O', 'O', 'O', 'O', 'T']\n",
            "\n",
            "Grid Size: (5, 5); Treasure: [4, 4] \n",
            "Game Map:\n",
            "['O', 'O', 'O', 'W', 'O']\n",
            "['O', 'O', 'X', 'W', 'O']\n",
            "['W', 'W', 'O', 'W', 'O']\n",
            "['O', 'O', 'O', 'E', 'O']\n",
            "['O', 'O', 'O', 'O', 'T']\n",
            "\n",
            "Grid Size: (5, 5); Treasure: [4, 4] \n",
            "Game Map:\n",
            "['O', 'O', 'O', 'W', 'O']\n",
            "['O', 'O', 'O', 'W', 'O']\n",
            "['W', 'W', 'X', 'W', 'O']\n",
            "['O', 'O', 'O', 'E', 'O']\n",
            "['O', 'O', 'O', 'O', 'T']\n",
            "\n",
            "Grid Size: (5, 5); Treasure: [4, 4] \n",
            "Game Map:\n",
            "['O', 'O', 'O', 'W', 'O']\n",
            "['O', 'O', 'O', 'W', 'O']\n",
            "['W', 'W', 'O', 'W', 'O']\n",
            "['O', 'O', 'X', 'E', 'O']\n",
            "['O', 'O', 'O', 'O', 'T']\n",
            "\n",
            "Grid Size: (5, 5); Treasure: [4, 4] \n",
            "Game Map:\n",
            "['O', 'O', 'O', 'W', 'O']\n",
            "['O', 'O', 'O', 'W', 'O']\n",
            "['W', 'W', 'O', 'W', 'O']\n",
            "['O', 'O', 'O', 'E', 'O']\n",
            "['O', 'O', 'X', 'O', 'T']\n",
            "\n",
            "Grid Size: (5, 5); Treasure: [4, 4] \n",
            "Game Map:\n",
            "['O', 'O', 'O', 'W', 'O']\n",
            "['O', 'O', 'O', 'W', 'O']\n",
            "['W', 'W', 'O', 'W', 'O']\n",
            "['O', 'O', 'O', 'E', 'O']\n",
            "['O', 'O', 'O', 'X', 'T']\n",
            "\n",
            "Grid Size: (5, 5); Treasure: [4, 4] \n",
            "Game Map:\n",
            "['O', 'O', 'O', 'W', 'O']\n",
            "['O', 'O', 'O', 'W', 'O']\n",
            "['W', 'W', 'O', 'W', 'O']\n",
            "['O', 'O', 'O', 'E', 'O']\n",
            "['O', 'O', 'O', 'O', 'X']\n",
            "\n",
            "Total Reward for the last episode: -7\n"
          ],
          "name": "stdout"
        },
        {
          "output_type": "display_data",
          "data": {
            "image/png": "[encoded data removed]",
            "text/plain": [
              "<Figure size 720x360 with 1 Axes>"
            ]
          },
          "metadata": {
            "tags": [],
            "needs_background": "light"
          }
        }
      ]
    },
    {
      "cell_type": "markdown",
      "metadata": {
        "id": "_9mbCvpsQepK"
      },
      "source": [
        "From the results above we can see how well Q-learning performs in this task, from the graph we can see how the algorithm went from doing really bad with a total reward of -350 in the first few episodes, but by the end the total reward is -7 that is the minimum number of steps required to complete the maze without encountering obstacles or monsters\n",
        "\n",
        "From the path the agent takes we can see it avoids the obstacles very well.\n",
        "\n",
        "The following example uses a different map to show the working of the agent"
      ]
    },
    {
      "cell_type": "code",
      "metadata": {
        "colab": {
          "base_uri": "https://localhost:8080/"
        },
        "id": "PC0qNOXeimTA",
        "outputId": "16ee0414-19e3-4f75-d5af-3af6beb589ed"
      },
      "source": [
        "np.random.seed(321)\n",
        "myMap2 = GameMap(obstaclesPos= [[[1,1],[1,2]], [[2,2],[3,2]]], treasurePos=(2,1), enemyPos=[1,0])\n",
        "print(myMap2)\n",
        "myAgent2 = RLAgent(myMap2)\n",
        "myAgent2"
      ],
      "execution_count": 7,
      "outputs": [
        {
          "output_type": "stream",
          "text": [
            "Grid Size: (5, 5); Treasure: (2, 1) \n",
            "Game Map:\n",
            "['X', 'O', 'O', 'O', 'O']\n",
            "['E', 'W', 'W', 'O', 'O']\n",
            "['O', 'T', 'W', 'O', 'O']\n",
            "['O', 'O', 'W', 'O', 'O']\n",
            "['O', 'O', 'O', 'O', 'O']\n",
            "\n"
          ],
          "name": "stdout"
        },
        {
          "output_type": "execute_result",
          "data": {
            "text/plain": [
              "Policy: {'U': [-1, 0], 'D': [1, 0], 'L': [0, -1], 'R': [0, 1]} Treasure: (2, 1)\n",
              "Q-table: \n",
              "0 0 0 0 \n",
              "0 0 0 0 \n",
              "0 0 0 0 \n",
              "0 0 0 0 \n",
              "0 0 0 0 \n",
              "0 0 0 0 \n",
              "0 0 0 0 \n",
              "0 0 0 0 \n",
              "0 0 0 0 \n",
              "0 0 0 0 \n",
              "0 0 0 0 \n",
              "0 0 0 0 \n",
              "0 0 0 0 \n",
              "0 0 0 0 \n",
              "0 0 0 0 \n",
              "0 0 0 0 \n",
              "0 0 0 0 \n",
              "0 0 0 0 \n",
              "0 0 0 0 \n",
              "0 0 0 0 \n",
              "0 0 0 0 \n",
              "0 0 0 0 \n",
              "0 0 0 0 \n",
              "0 0 0 0 \n",
              "0 0 0 0 \n",
              "States:\n",
              "(0, 0)\t(0, 1)\t(0, 2)\t(0, 3)\t(0, 4)\t\n",
              "(1, 0)\t(1, 1)\t(1, 2)\t(1, 3)\t(1, 4)\t\n",
              "(2, 0)\t(2, 1)\t(2, 2)\t(2, 3)\t(2, 4)\t\n",
              "(3, 0)\t(3, 1)\t(3, 2)\t(3, 3)\t(3, 4)\t\n",
              "(4, 0)\t(4, 1)\t(4, 2)\t(4, 3)\t(4, 4)\t"
            ]
          },
          "metadata": {
            "tags": []
          },
          "execution_count": 7
        }
      ]
    },
    {
      "cell_type": "code",
      "metadata": {
        "colab": {
          "base_uri": "https://localhost:8080/",
          "height": 1000
        },
        "id": "cRdx7ztAjMPs",
        "outputId": "85e440a0-4c2e-4acf-c952-90a280aff169"
      },
      "source": [
        "myAgent2.train(numEpisodes=1000)"
      ],
      "execution_count": 8,
      "outputs": [
        {
          "output_type": "stream",
          "text": [
            "Starting Episode: 0\n",
            "Starting Episode: 100\n",
            "Starting Episode: 200\n",
            "Starting Episode: 300\n",
            "Starting Episode: 400\n",
            "Starting Episode: 500\n",
            "Starting Episode: 600\n",
            "Starting Episode: 700\n",
            "Starting Episode: 800\n",
            "Starting Episode: 900\n",
            "\n",
            "The agent follows the following path:\n",
            "Grid Size: (5, 5); Treasure: (2, 1) \n",
            "Game Map:\n",
            "['X', 'O', 'O', 'O', 'O']\n",
            "['E', 'W', 'W', 'O', 'O']\n",
            "['O', 'T', 'W', 'O', 'O']\n",
            "['O', 'O', 'W', 'O', 'O']\n",
            "['O', 'O', 'O', 'O', 'O']\n",
            "\n",
            "Grid Size: (5, 5); Treasure: (2, 1) \n",
            "Game Map:\n",
            "['O', 'X', 'O', 'O', 'O']\n",
            "['E', 'W', 'W', 'O', 'O']\n",
            "['O', 'T', 'W', 'O', 'O']\n",
            "['O', 'O', 'W', 'O', 'O']\n",
            "['O', 'O', 'O', 'O', 'O']\n",
            "\n",
            "Grid Size: (5, 5); Treasure: (2, 1) \n",
            "Game Map:\n",
            "['O', 'O', 'X', 'O', 'O']\n",
            "['E', 'W', 'W', 'O', 'O']\n",
            "['O', 'T', 'W', 'O', 'O']\n",
            "['O', 'O', 'W', 'O', 'O']\n",
            "['O', 'O', 'O', 'O', 'O']\n",
            "\n",
            "Grid Size: (5, 5); Treasure: (2, 1) \n",
            "Game Map:\n",
            "['O', 'O', 'O', 'X', 'O']\n",
            "['E', 'W', 'W', 'O', 'O']\n",
            "['O', 'T', 'W', 'O', 'O']\n",
            "['O', 'O', 'W', 'O', 'O']\n",
            "['O', 'O', 'O', 'O', 'O']\n",
            "\n",
            "Grid Size: (5, 5); Treasure: (2, 1) \n",
            "Game Map:\n",
            "['O', 'O', 'O', 'O', 'O']\n",
            "['E', 'W', 'W', 'X', 'O']\n",
            "['O', 'T', 'W', 'O', 'O']\n",
            "['O', 'O', 'W', 'O', 'O']\n",
            "['O', 'O', 'O', 'O', 'O']\n",
            "\n",
            "Grid Size: (5, 5); Treasure: (2, 1) \n",
            "Game Map:\n",
            "['O', 'O', 'O', 'O', 'O']\n",
            "['E', 'W', 'W', 'O', 'O']\n",
            "['O', 'T', 'W', 'X', 'O']\n",
            "['O', 'O', 'W', 'O', 'O']\n",
            "['O', 'O', 'O', 'O', 'O']\n",
            "\n",
            "Grid Size: (5, 5); Treasure: (2, 1) \n",
            "Game Map:\n",
            "['O', 'O', 'O', 'O', 'O']\n",
            "['E', 'W', 'W', 'O', 'O']\n",
            "['O', 'T', 'W', 'O', 'O']\n",
            "['O', 'O', 'W', 'X', 'O']\n",
            "['O', 'O', 'O', 'O', 'O']\n",
            "\n",
            "Grid Size: (5, 5); Treasure: (2, 1) \n",
            "Game Map:\n",
            "['O', 'O', 'O', 'O', 'O']\n",
            "['E', 'W', 'W', 'O', 'O']\n",
            "['O', 'T', 'W', 'O', 'O']\n",
            "['O', 'O', 'W', 'O', 'O']\n",
            "['O', 'O', 'O', 'X', 'O']\n",
            "\n",
            "Grid Size: (5, 5); Treasure: (2, 1) \n",
            "Game Map:\n",
            "['O', 'O', 'O', 'O', 'O']\n",
            "['E', 'W', 'W', 'O', 'O']\n",
            "['O', 'T', 'W', 'O', 'O']\n",
            "['O', 'O', 'W', 'O', 'O']\n",
            "['O', 'O', 'X', 'O', 'O']\n",
            "\n",
            "Grid Size: (5, 5); Treasure: (2, 1) \n",
            "Game Map:\n",
            "['O', 'O', 'O', 'O', 'O']\n",
            "['E', 'W', 'W', 'O', 'O']\n",
            "['O', 'T', 'W', 'O', 'O']\n",
            "['O', 'O', 'W', 'O', 'O']\n",
            "['O', 'X', 'O', 'O', 'O']\n",
            "\n",
            "Grid Size: (5, 5); Treasure: (2, 1) \n",
            "Game Map:\n",
            "['O', 'O', 'O', 'O', 'O']\n",
            "['E', 'W', 'W', 'O', 'O']\n",
            "['O', 'T', 'W', 'O', 'O']\n",
            "['O', 'X', 'W', 'O', 'O']\n",
            "['O', 'O', 'O', 'O', 'O']\n",
            "\n",
            "Grid Size: (5, 5); Treasure: (2, 1) \n",
            "Game Map:\n",
            "['O', 'O', 'O', 'O', 'O']\n",
            "['E', 'W', 'W', 'O', 'O']\n",
            "['O', 'X', 'W', 'O', 'O']\n",
            "['O', 'O', 'W', 'O', 'O']\n",
            "['O', 'O', 'O', 'O', 'O']\n",
            "\n",
            "Total Reward for the last episode: -10\n"
          ],
          "name": "stdout"
        },
        {
          "output_type": "display_data",
          "data": {
            "image/png": "[encoded data removed]",
            "text/plain": [
              "<Figure size 720x360 with 1 Axes>"
            ]
          },
          "metadata": {
            "tags": [],
            "needs_background": "light"
          }
        }
      ]
    },
    {
      "cell_type": "markdown",
      "metadata": {
        "id": "HRuwB8f5RP01"
      },
      "source": [
        "From these results again we can see the RL agent converges on the best reward possible in the environment, from the path it takes we can see it knows to avoid the obstacles and the enemies, which makes it go around the fence to reach the goal requiring 10 minimum steps rather than 2 if the enemy werent there.\n",
        "\n",
        "The following example uses the value iteration method, since this method explores all the possible states I chose a simpler map to show the exploration benefits."
      ]
    },
    {
      "cell_type": "code",
      "metadata": {
        "colab": {
          "base_uri": "https://localhost:8080/"
        },
        "id": "UQgbNRZbscmd",
        "outputId": "5c15227d-b004-4099-f434-ff1eb7c56c9d"
      },
      "source": [
        "myMap3 = GameMap()\n",
        "print(myMap3)\n",
        "myAgent3 = RLAgent(myMap3)\n",
        "myAgent3.valueIteration(numEpisodes = 1000)"
      ],
      "execution_count": 9,
      "outputs": [
        {
          "output_type": "stream",
          "text": [
            "Grid Size: (5, 5); Treasure: [4, 4] \n",
            "Game Map:\n",
            "['X', 'O', 'O', 'O', 'O']\n",
            "['O', 'O', 'O', 'O', 'O']\n",
            "['O', 'O', 'O', 'O', 'O']\n",
            "['O', 'O', 'O', 'O', 'O']\n",
            "['O', 'O', 'O', 'O', 'T']\n",
            "\n",
            "Episode 0\n",
            "Sate Value: \n",
            "[[0. 0. 0. 0. 0.]\n",
            " [0. 0. 0. 0. 0.]\n",
            " [0. 0. 0. 0. 0.]\n",
            " [0. 0. 0. 0. 0.]\n",
            " [0. 0. 0. 0. 0.]]\n",
            "\n",
            "Episode: 2 \n",
            "State Value: \n",
            "[[-2. -2. -2. -2. -2.]\n",
            " [-2. -2. -2. -2. -2.]\n",
            " [-2. -2. -2. -2. -2.]\n",
            " [-2. -2. -2. -2. -1.]\n",
            " [-2. -2. -2. -1.  0.]] \n",
            "\n",
            "Episode: 4 \n",
            "State Value: \n",
            "[[-4. -4. -4. -4. -4.]\n",
            " [-4. -4. -4. -4. -3.]\n",
            " [-4. -4. -4. -3. -2.]\n",
            " [-4. -4. -3. -2. -1.]\n",
            " [-4. -3. -2. -1.  0.]] \n",
            "\n",
            "Episode: 6 \n",
            "State Value: \n",
            "[[-6. -6. -6. -5. -4.]\n",
            " [-6. -6. -5. -4. -3.]\n",
            " [-6. -5. -4. -3. -2.]\n",
            " [-5. -4. -3. -2. -1.]\n",
            " [-4. -3. -2. -1.  0.]] \n",
            "\n",
            "Episode: 8 \n",
            "State Value: \n",
            "[[-8. -7. -6. -5. -4.]\n",
            " [-7. -6. -5. -4. -3.]\n",
            " [-6. -5. -4. -3. -2.]\n",
            " [-5. -4. -3. -2. -1.]\n",
            " [-4. -3. -2. -1.  0.]] \n",
            "\n",
            "CONVERGED at Episode: 9 \n",
            "State Value: \n",
            "[[-8. -7. -6. -5. -4.]\n",
            " [-7. -6. -5. -4. -3.]\n",
            " [-6. -5. -4. -3. -2.]\n",
            " [-5. -4. -3. -2. -1.]\n",
            " [-4. -3. -2. -1.  0.]] \n",
            "\n"
          ],
          "name": "stdout"
        }
      ]
    },
    {
      "cell_type": "markdown",
      "metadata": {
        "id": "SW3G0VBORtEO"
      },
      "source": [
        "In these results we can see we have a value at every position in the state value table, with this we can see that the agent explored all the states, and now for any given state using this state value table we can find the path to goal with lowest number of steps, we just need to follow the increasing numbers, i.e. if we start at state (0,0) top left corner which has a state value of -8, that means it will take 8 steps from this position to reach the end goal, and we can follow the path with increasing numbers, i.e. -8,-7,-6,-5...,0."
      ]
    },
    {
      "cell_type": "markdown",
      "metadata": {
        "id": "VeLsvy4zGkWX"
      },
      "source": [
        "**Conclusion:** For both the methods we are able to find the minimum number of steps required to complete the maze, with the Q-learning algorithm using epsilon gready strategy by the end the agent does not explore at all and only exploits the Q-table and hence we can not guarantee that with Q-learning we will explore all the states, where as the other methods explore all the states regardless of our starting/ending positions."
      ]
    }
  ]
}